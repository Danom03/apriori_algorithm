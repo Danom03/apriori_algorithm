{
 "cells": [
  {
   "cell_type": "code",
   "execution_count": 1,
   "id": "c0fbfbac",
   "metadata": {},
   "outputs": [],
   "source": [
    "import numpy as np\n",
    "import pandas as pd\n",
    "import warnings\n",
    "\n",
    "warnings.filterwarnings('ignore')"
   ]
  },
  {
   "cell_type": "code",
   "execution_count": 2,
   "id": "bf2fc29f",
   "metadata": {},
   "outputs": [
    {
     "data": {
      "text/html": [
       "<div>\n",
       "<style scoped>\n",
       "    .dataframe tbody tr th:only-of-type {\n",
       "        vertical-align: middle;\n",
       "    }\n",
       "\n",
       "    .dataframe tbody tr th {\n",
       "        vertical-align: top;\n",
       "    }\n",
       "\n",
       "    .dataframe thead th {\n",
       "        text-align: right;\n",
       "    }\n",
       "</style>\n",
       "<table border=\"1\" class=\"dataframe\">\n",
       "  <thead>\n",
       "    <tr style=\"text-align: right;\">\n",
       "      <th></th>\n",
       "      <th>Timestamp</th>\n",
       "      <th>Name(optional)</th>\n",
       "      <th>Gender</th>\n",
       "      <th>Age group</th>\n",
       "      <th>Where do you reside?</th>\n",
       "      <th>Are you a professional or a student?</th>\n",
       "      <th>Do you have any sources of income?</th>\n",
       "      <th>If yes, please specify.</th>\n",
       "      <th>Which video streaming platforms do you use?</th>\n",
       "      <th>Do you pay for your subscriptions or use someone else's?</th>\n",
       "      <th>How often do you use the video streaming apps you mentioned?</th>\n",
       "      <th>How many hours per day, on average, do you spend using video streaming apps?</th>\n",
       "      <th>Which device do you use for streaming?</th>\n",
       "      <th>Comments</th>\n",
       "    </tr>\n",
       "  </thead>\n",
       "  <tbody>\n",
       "    <tr>\n",
       "      <th>0</th>\n",
       "      <td>2023-11-06 14:42:55.307</td>\n",
       "      <td>Praghya Trivedi</td>\n",
       "      <td>Female</td>\n",
       "      <td>30&lt;</td>\n",
       "      <td>Indore</td>\n",
       "      <td>Professional</td>\n",
       "      <td>Yes</td>\n",
       "      <td>Visiting faculty freelancing art classes</td>\n",
       "      <td>Youtube, Netflix, Amazon Prime, Disney + Hosta...</td>\n",
       "      <td>I pay for some of them</td>\n",
       "      <td>Monthly</td>\n",
       "      <td>8</td>\n",
       "      <td>PC</td>\n",
       "      <td>1. Radio button not working for smart phones 2...</td>\n",
       "    </tr>\n",
       "    <tr>\n",
       "      <th>1</th>\n",
       "      <td>2023-11-06 15:11:17.144</td>\n",
       "      <td>Nishant Deshmukh</td>\n",
       "      <td>Male</td>\n",
       "      <td>18-21</td>\n",
       "      <td>Indore</td>\n",
       "      <td>College Student</td>\n",
       "      <td>No</td>\n",
       "      <td>NaN</td>\n",
       "      <td>Youtube, Netflix, Amazon Prime</td>\n",
       "      <td>I pay for some of them</td>\n",
       "      <td>Daily</td>\n",
       "      <td>6</td>\n",
       "      <td>Smart Phones, PC</td>\n",
       "      <td>NaN</td>\n",
       "    </tr>\n",
       "    <tr>\n",
       "      <th>2</th>\n",
       "      <td>2023-11-06 15:14:23.508</td>\n",
       "      <td>Dhaathri S</td>\n",
       "      <td>Female</td>\n",
       "      <td>18-21</td>\n",
       "      <td>Bengaluru</td>\n",
       "      <td>CA Student</td>\n",
       "      <td>Yes</td>\n",
       "      <td>Articleship</td>\n",
       "      <td>Youtube, Netflix, Amazon Prime, Disney + Hostar</td>\n",
       "      <td>I pay for my own subscription</td>\n",
       "      <td>Weekly</td>\n",
       "      <td>1</td>\n",
       "      <td>Smart Phones</td>\n",
       "      <td>NaN</td>\n",
       "    </tr>\n",
       "    <tr>\n",
       "      <th>3</th>\n",
       "      <td>2023-11-06 15:14:24.205</td>\n",
       "      <td>Shubhanshu Sen</td>\n",
       "      <td>Male</td>\n",
       "      <td>21-30</td>\n",
       "      <td>Indore</td>\n",
       "      <td>Professional</td>\n",
       "      <td>Yes</td>\n",
       "      <td>JOB\\n</td>\n",
       "      <td>Youtube, Netflix, Amazon Prime</td>\n",
       "      <td>I pay for my own subscription</td>\n",
       "      <td>Rarely</td>\n",
       "      <td>1</td>\n",
       "      <td>TV</td>\n",
       "      <td>NaN</td>\n",
       "    </tr>\n",
       "    <tr>\n",
       "      <th>4</th>\n",
       "      <td>2023-11-06 15:15:02.677</td>\n",
       "      <td>Shreya</td>\n",
       "      <td>Female</td>\n",
       "      <td>21-30</td>\n",
       "      <td>Ireland</td>\n",
       "      <td>Professional</td>\n",
       "      <td>Yes</td>\n",
       "      <td>Software developer</td>\n",
       "      <td>Youtube, Netflix, Disney + Hostar</td>\n",
       "      <td>I pay for my own subscription</td>\n",
       "      <td>Weekly</td>\n",
       "      <td>2</td>\n",
       "      <td>Smart Phones</td>\n",
       "      <td>NaN</td>\n",
       "    </tr>\n",
       "  </tbody>\n",
       "</table>\n",
       "</div>"
      ],
      "text/plain": [
       "                Timestamp     Name(optional)  Gender Age group  \\\n",
       "0 2023-11-06 14:42:55.307   Praghya Trivedi   Female       30<   \n",
       "1 2023-11-06 15:11:17.144  Nishant Deshmukh     Male     18-21   \n",
       "2 2023-11-06 15:14:23.508        Dhaathri S   Female     18-21   \n",
       "3 2023-11-06 15:14:24.205     Shubhanshu Sen    Male     21-30   \n",
       "4 2023-11-06 15:15:02.677             Shreya  Female     21-30   \n",
       "\n",
       "  Where do you reside? Are you a professional or a student?  \\\n",
       "0               Indore                         Professional   \n",
       "1              Indore                       College Student   \n",
       "2            Bengaluru                           CA Student   \n",
       "3              Indore                          Professional   \n",
       "4              Ireland                         Professional   \n",
       "\n",
       "  Do you have any sources of income?  \\\n",
       "0                                Yes   \n",
       "1                                 No   \n",
       "2                                Yes   \n",
       "3                                Yes   \n",
       "4                                Yes   \n",
       "\n",
       "                    If yes, please specify.  \\\n",
       "0  Visiting faculty freelancing art classes   \n",
       "1                                       NaN   \n",
       "2                              Articleship    \n",
       "3                                     JOB\\n   \n",
       "4                       Software developer    \n",
       "\n",
       "         Which video streaming platforms do you use?  \\\n",
       "0  Youtube, Netflix, Amazon Prime, Disney + Hosta...   \n",
       "1                     Youtube, Netflix, Amazon Prime   \n",
       "2    Youtube, Netflix, Amazon Prime, Disney + Hostar   \n",
       "3                     Youtube, Netflix, Amazon Prime   \n",
       "4                  Youtube, Netflix, Disney + Hostar   \n",
       "\n",
       "  Do you pay for your subscriptions or use someone else's?  \\\n",
       "0                             I pay for some of them         \n",
       "1                             I pay for some of them         \n",
       "2                      I pay for my own subscription         \n",
       "3                      I pay for my own subscription         \n",
       "4                      I pay for my own subscription         \n",
       "\n",
       "  How often do you use the video streaming apps you mentioned?  \\\n",
       "0                                            Monthly             \n",
       "1                                              Daily             \n",
       "2                                             Weekly             \n",
       "3                                             Rarely             \n",
       "4                                             Weekly             \n",
       "\n",
       "   How many hours per day, on average, do you spend using video streaming apps?  \\\n",
       "0                                                  8                              \n",
       "1                                                  6                              \n",
       "2                                                  1                              \n",
       "3                                                  1                              \n",
       "4                                                  2                              \n",
       "\n",
       "  Which device do you use for streaming?  \\\n",
       "0                                     PC   \n",
       "1                       Smart Phones, PC   \n",
       "2                           Smart Phones   \n",
       "3                                     TV   \n",
       "4                           Smart Phones   \n",
       "\n",
       "                                            Comments  \n",
       "0  1. Radio button not working for smart phones 2...  \n",
       "1                                                NaN  \n",
       "2                                                NaN  \n",
       "3                                                NaN  \n",
       "4                                                NaN  "
      ]
     },
     "execution_count": 2,
     "metadata": {},
     "output_type": "execute_result"
    }
   ],
   "source": [
    "df = pd.read_excel('Video Streaming Platform Analysis (Responses).xlsx')\n",
    "\n",
    "df.head()"
   ]
  },
  {
   "cell_type": "code",
   "execution_count": 3,
   "id": "69ee62f5",
   "metadata": {},
   "outputs": [],
   "source": [
    "df.drop(labels=['Timestamp','Name(optional)'],axis=1,inplace=True)"
   ]
  },
  {
   "cell_type": "code",
   "execution_count": 4,
   "id": "d5e71211",
   "metadata": {},
   "outputs": [
    {
     "data": {
      "text/plain": [
       "Index(['Gender', 'Age group', 'Where do you reside?',\n",
       "       'Are you a professional or a student?',\n",
       "       'Do you have any sources of income?', 'If yes, please specify.',\n",
       "       'Which video streaming platforms do you use?',\n",
       "       'Do you pay for your subscriptions or use someone else's?',\n",
       "       'How often do you use the video streaming apps you mentioned?',\n",
       "       'How many hours per day, on average, do you spend using video streaming apps?',\n",
       "       'Which device do you use for streaming?', 'Comments'],\n",
       "      dtype='object')"
      ]
     },
     "execution_count": 4,
     "metadata": {},
     "output_type": "execute_result"
    }
   ],
   "source": [
    "df.columns"
   ]
  },
  {
   "cell_type": "code",
   "execution_count": 5,
   "id": "761b9c68",
   "metadata": {},
   "outputs": [
    {
     "data": {
      "text/html": [
       "<div>\n",
       "<style scoped>\n",
       "    .dataframe tbody tr th:only-of-type {\n",
       "        vertical-align: middle;\n",
       "    }\n",
       "\n",
       "    .dataframe tbody tr th {\n",
       "        vertical-align: top;\n",
       "    }\n",
       "\n",
       "    .dataframe thead th {\n",
       "        text-align: right;\n",
       "    }\n",
       "</style>\n",
       "<table border=\"1\" class=\"dataframe\">\n",
       "  <thead>\n",
       "    <tr style=\"text-align: right;\">\n",
       "      <th></th>\n",
       "      <th>gender</th>\n",
       "      <th>age</th>\n",
       "      <th>location</th>\n",
       "      <th>profession</th>\n",
       "      <th>income</th>\n",
       "      <th>income_source</th>\n",
       "      <th>platforms</th>\n",
       "      <th>subscription_pay</th>\n",
       "      <th>usage</th>\n",
       "      <th>hours_per_day</th>\n",
       "      <th>device_used</th>\n",
       "      <th>comments</th>\n",
       "    </tr>\n",
       "  </thead>\n",
       "  <tbody>\n",
       "    <tr>\n",
       "      <th>0</th>\n",
       "      <td>Female</td>\n",
       "      <td>30&lt;</td>\n",
       "      <td>Indore</td>\n",
       "      <td>Professional</td>\n",
       "      <td>Yes</td>\n",
       "      <td>Visiting faculty freelancing art classes</td>\n",
       "      <td>Youtube, Netflix, Amazon Prime, Disney + Hosta...</td>\n",
       "      <td>I pay for some of them</td>\n",
       "      <td>Monthly</td>\n",
       "      <td>8</td>\n",
       "      <td>PC</td>\n",
       "      <td>1. Radio button not working for smart phones 2...</td>\n",
       "    </tr>\n",
       "    <tr>\n",
       "      <th>1</th>\n",
       "      <td>Male</td>\n",
       "      <td>18-21</td>\n",
       "      <td>Indore</td>\n",
       "      <td>College Student</td>\n",
       "      <td>No</td>\n",
       "      <td>NaN</td>\n",
       "      <td>Youtube, Netflix, Amazon Prime</td>\n",
       "      <td>I pay for some of them</td>\n",
       "      <td>Daily</td>\n",
       "      <td>6</td>\n",
       "      <td>Smart Phones, PC</td>\n",
       "      <td>NaN</td>\n",
       "    </tr>\n",
       "    <tr>\n",
       "      <th>2</th>\n",
       "      <td>Female</td>\n",
       "      <td>18-21</td>\n",
       "      <td>Bengaluru</td>\n",
       "      <td>CA Student</td>\n",
       "      <td>Yes</td>\n",
       "      <td>Articleship</td>\n",
       "      <td>Youtube, Netflix, Amazon Prime, Disney + Hostar</td>\n",
       "      <td>I pay for my own subscription</td>\n",
       "      <td>Weekly</td>\n",
       "      <td>1</td>\n",
       "      <td>Smart Phones</td>\n",
       "      <td>NaN</td>\n",
       "    </tr>\n",
       "    <tr>\n",
       "      <th>3</th>\n",
       "      <td>Male</td>\n",
       "      <td>21-30</td>\n",
       "      <td>Indore</td>\n",
       "      <td>Professional</td>\n",
       "      <td>Yes</td>\n",
       "      <td>JOB\\n</td>\n",
       "      <td>Youtube, Netflix, Amazon Prime</td>\n",
       "      <td>I pay for my own subscription</td>\n",
       "      <td>Rarely</td>\n",
       "      <td>1</td>\n",
       "      <td>TV</td>\n",
       "      <td>NaN</td>\n",
       "    </tr>\n",
       "    <tr>\n",
       "      <th>4</th>\n",
       "      <td>Female</td>\n",
       "      <td>21-30</td>\n",
       "      <td>Ireland</td>\n",
       "      <td>Professional</td>\n",
       "      <td>Yes</td>\n",
       "      <td>Software developer</td>\n",
       "      <td>Youtube, Netflix, Disney + Hostar</td>\n",
       "      <td>I pay for my own subscription</td>\n",
       "      <td>Weekly</td>\n",
       "      <td>2</td>\n",
       "      <td>Smart Phones</td>\n",
       "      <td>NaN</td>\n",
       "    </tr>\n",
       "  </tbody>\n",
       "</table>\n",
       "</div>"
      ],
      "text/plain": [
       "   gender    age   location       profession income  \\\n",
       "0  Female    30<     Indore     Professional    Yes   \n",
       "1    Male  18-21    Indore   College Student     No   \n",
       "2  Female  18-21  Bengaluru       CA Student    Yes   \n",
       "3    Male  21-30    Indore      Professional    Yes   \n",
       "4  Female  21-30    Ireland     Professional    Yes   \n",
       "\n",
       "                              income_source  \\\n",
       "0  Visiting faculty freelancing art classes   \n",
       "1                                       NaN   \n",
       "2                              Articleship    \n",
       "3                                     JOB\\n   \n",
       "4                       Software developer    \n",
       "\n",
       "                                           platforms  \\\n",
       "0  Youtube, Netflix, Amazon Prime, Disney + Hosta...   \n",
       "1                     Youtube, Netflix, Amazon Prime   \n",
       "2    Youtube, Netflix, Amazon Prime, Disney + Hostar   \n",
       "3                     Youtube, Netflix, Amazon Prime   \n",
       "4                  Youtube, Netflix, Disney + Hostar   \n",
       "\n",
       "                subscription_pay    usage  hours_per_day       device_used  \\\n",
       "0         I pay for some of them  Monthly              8                PC   \n",
       "1         I pay for some of them    Daily              6  Smart Phones, PC   \n",
       "2  I pay for my own subscription   Weekly              1      Smart Phones   \n",
       "3  I pay for my own subscription   Rarely              1                TV   \n",
       "4  I pay for my own subscription   Weekly              2      Smart Phones   \n",
       "\n",
       "                                            comments  \n",
       "0  1. Radio button not working for smart phones 2...  \n",
       "1                                                NaN  \n",
       "2                                                NaN  \n",
       "3                                                NaN  \n",
       "4                                                NaN  "
      ]
     },
     "execution_count": 5,
     "metadata": {},
     "output_type": "execute_result"
    }
   ],
   "source": [
    "df.columns = ['gender','age','location','profession','income','income_source','platforms','subscription_pay','usage','hours_per_day',\n",
    "             'device_used','comments']\n",
    "\n",
    "df.head()"
   ]
  },
  {
   "cell_type": "code",
   "execution_count": 6,
   "id": "c6f886e9",
   "metadata": {},
   "outputs": [
    {
     "data": {
      "text/plain": [
       "array(['30<', '18-21', '21-30', '<30', '12-18'], dtype=object)"
      ]
     },
     "execution_count": 6,
     "metadata": {},
     "output_type": "execute_result"
    }
   ],
   "source": [
    "df['age'].unique()"
   ]
  },
  {
   "cell_type": "code",
   "execution_count": 7,
   "id": "11f6db40",
   "metadata": {},
   "outputs": [],
   "source": [
    "df['age'][df['age'] == '30<'] = 'above 30'\n",
    "df['age'][df['age'] == '<30'] = 'above 30'"
   ]
  },
  {
   "cell_type": "code",
   "execution_count": 8,
   "id": "a0237013",
   "metadata": {},
   "outputs": [
    {
     "data": {
      "text/plain": [
       "array(['above 30', '18-21', '21-30', '12-18'], dtype=object)"
      ]
     },
     "execution_count": 8,
     "metadata": {},
     "output_type": "execute_result"
    }
   ],
   "source": [
    "df['age'].unique()"
   ]
  },
  {
   "cell_type": "code",
   "execution_count": 9,
   "id": "df0c46f4",
   "metadata": {},
   "outputs": [
    {
     "data": {
      "text/plain": [
       "array(['Professional', 'College Student', 'CA Student', 'School Student',\n",
       "       'Aspirant'], dtype=object)"
      ]
     },
     "execution_count": 9,
     "metadata": {},
     "output_type": "execute_result"
    }
   ],
   "source": [
    "df['profession'].unique()"
   ]
  },
  {
   "cell_type": "code",
   "execution_count": 10,
   "id": "727a1745",
   "metadata": {},
   "outputs": [
    {
     "data": {
      "text/plain": [
       "array(['Visiting faculty freelancing art classes', nan, 'Articleship ',\n",
       "       'JOB\\n', 'Software developer ', 'Job', 'part time tutor',\n",
       "       'Teaching ', 'Internship , Stock Market ', 'Nil', 'Work',\n",
       "       'Freelancing', 'Job - Data scientist ', ' ', 'Part time jobs',\n",
       "       'Nominal Stipend', 'Jobs and Business'], dtype=object)"
      ]
     },
     "execution_count": 10,
     "metadata": {},
     "output_type": "execute_result"
    }
   ],
   "source": [
    "df['income_source'].unique()"
   ]
  },
  {
   "cell_type": "code",
   "execution_count": 11,
   "id": "e5091dca",
   "metadata": {},
   "outputs": [],
   "source": [
    "df['income_source'].fillna('None', inplace=True)"
   ]
  },
  {
   "cell_type": "code",
   "execution_count": 12,
   "id": "26e39249",
   "metadata": {},
   "outputs": [
    {
     "data": {
      "text/plain": [
       "array(['Visiting faculty freelancing art classes', 'None', 'Articleship ',\n",
       "       'JOB\\n', 'Software developer ', 'Job', 'part time tutor',\n",
       "       'Teaching ', 'Internship , Stock Market ', 'Nil', 'Work',\n",
       "       'Freelancing', 'Job - Data scientist ', ' ', 'Part time jobs',\n",
       "       'Nominal Stipend', 'Jobs and Business'], dtype=object)"
      ]
     },
     "execution_count": 12,
     "metadata": {},
     "output_type": "execute_result"
    }
   ],
   "source": [
    "df['income_source'].unique()"
   ]
  },
  {
   "cell_type": "code",
   "execution_count": 13,
   "id": "348be63d",
   "metadata": {},
   "outputs": [],
   "source": [
    "df['income_source'].replace(['Nil',' '], 'None', inplace=True)"
   ]
  },
  {
   "cell_type": "code",
   "execution_count": 14,
   "id": "3648577a",
   "metadata": {},
   "outputs": [],
   "source": [
    "df['income_source']  = [i.lower() for i in df['income_source']]"
   ]
  },
  {
   "cell_type": "code",
   "execution_count": 15,
   "id": "c88b287f",
   "metadata": {},
   "outputs": [],
   "source": [
    "df['income_source']  = [i.strip() for i in df['income_source']]"
   ]
  },
  {
   "cell_type": "code",
   "execution_count": 16,
   "id": "e55417b2",
   "metadata": {},
   "outputs": [
    {
     "data": {
      "text/plain": [
       "0     visiting faculty freelancing art classes\n",
       "1                                         none\n",
       "2                                  articleship\n",
       "3                                          job\n",
       "4                           software developer\n",
       "                        ...                   \n",
       "69                                        none\n",
       "70                                        none\n",
       "71                                        none\n",
       "72                                        none\n",
       "73                                        none\n",
       "Name: income_source, Length: 74, dtype: object"
      ]
     },
     "execution_count": 16,
     "metadata": {},
     "output_type": "execute_result"
    }
   ],
   "source": [
    "df['income_source']"
   ]
  },
  {
   "cell_type": "code",
   "execution_count": 17,
   "id": "e0cb2753",
   "metadata": {},
   "outputs": [],
   "source": [
    "df['platforms'] = [i.split(',') for i in df['platforms']]"
   ]
  },
  {
   "cell_type": "code",
   "execution_count": 18,
   "id": "668c1531",
   "metadata": {},
   "outputs": [],
   "source": [
    "df['platform_count'] = [len(i) for i in df['platforms']]"
   ]
  },
  {
   "cell_type": "code",
   "execution_count": 19,
   "id": "7161800a",
   "metadata": {},
   "outputs": [
    {
     "data": {
      "text/html": [
       "<div>\n",
       "<style scoped>\n",
       "    .dataframe tbody tr th:only-of-type {\n",
       "        vertical-align: middle;\n",
       "    }\n",
       "\n",
       "    .dataframe tbody tr th {\n",
       "        vertical-align: top;\n",
       "    }\n",
       "\n",
       "    .dataframe thead th {\n",
       "        text-align: right;\n",
       "    }\n",
       "</style>\n",
       "<table border=\"1\" class=\"dataframe\">\n",
       "  <thead>\n",
       "    <tr style=\"text-align: right;\">\n",
       "      <th></th>\n",
       "      <th>gender</th>\n",
       "      <th>age</th>\n",
       "      <th>location</th>\n",
       "      <th>profession</th>\n",
       "      <th>income</th>\n",
       "      <th>income_source</th>\n",
       "      <th>platforms</th>\n",
       "      <th>subscription_pay</th>\n",
       "      <th>usage</th>\n",
       "      <th>hours_per_day</th>\n",
       "      <th>device_used</th>\n",
       "      <th>comments</th>\n",
       "      <th>platform_count</th>\n",
       "    </tr>\n",
       "  </thead>\n",
       "  <tbody>\n",
       "    <tr>\n",
       "      <th>0</th>\n",
       "      <td>Female</td>\n",
       "      <td>above 30</td>\n",
       "      <td>Indore</td>\n",
       "      <td>Professional</td>\n",
       "      <td>Yes</td>\n",
       "      <td>visiting faculty freelancing art classes</td>\n",
       "      <td>[Youtube,  Netflix,  Amazon Prime,  Disney + H...</td>\n",
       "      <td>I pay for some of them</td>\n",
       "      <td>Monthly</td>\n",
       "      <td>8</td>\n",
       "      <td>PC</td>\n",
       "      <td>1. Radio button not working for smart phones 2...</td>\n",
       "      <td>7</td>\n",
       "    </tr>\n",
       "    <tr>\n",
       "      <th>1</th>\n",
       "      <td>Male</td>\n",
       "      <td>18-21</td>\n",
       "      <td>Indore</td>\n",
       "      <td>College Student</td>\n",
       "      <td>No</td>\n",
       "      <td>none</td>\n",
       "      <td>[Youtube,  Netflix,  Amazon Prime]</td>\n",
       "      <td>I pay for some of them</td>\n",
       "      <td>Daily</td>\n",
       "      <td>6</td>\n",
       "      <td>Smart Phones, PC</td>\n",
       "      <td>NaN</td>\n",
       "      <td>3</td>\n",
       "    </tr>\n",
       "    <tr>\n",
       "      <th>2</th>\n",
       "      <td>Female</td>\n",
       "      <td>18-21</td>\n",
       "      <td>Bengaluru</td>\n",
       "      <td>CA Student</td>\n",
       "      <td>Yes</td>\n",
       "      <td>articleship</td>\n",
       "      <td>[Youtube,  Netflix,  Amazon Prime,  Disney + H...</td>\n",
       "      <td>I pay for my own subscription</td>\n",
       "      <td>Weekly</td>\n",
       "      <td>1</td>\n",
       "      <td>Smart Phones</td>\n",
       "      <td>NaN</td>\n",
       "      <td>4</td>\n",
       "    </tr>\n",
       "    <tr>\n",
       "      <th>3</th>\n",
       "      <td>Male</td>\n",
       "      <td>21-30</td>\n",
       "      <td>Indore</td>\n",
       "      <td>Professional</td>\n",
       "      <td>Yes</td>\n",
       "      <td>job</td>\n",
       "      <td>[Youtube,  Netflix,  Amazon Prime]</td>\n",
       "      <td>I pay for my own subscription</td>\n",
       "      <td>Rarely</td>\n",
       "      <td>1</td>\n",
       "      <td>TV</td>\n",
       "      <td>NaN</td>\n",
       "      <td>3</td>\n",
       "    </tr>\n",
       "    <tr>\n",
       "      <th>4</th>\n",
       "      <td>Female</td>\n",
       "      <td>21-30</td>\n",
       "      <td>Ireland</td>\n",
       "      <td>Professional</td>\n",
       "      <td>Yes</td>\n",
       "      <td>software developer</td>\n",
       "      <td>[Youtube,  Netflix,  Disney + Hostar]</td>\n",
       "      <td>I pay for my own subscription</td>\n",
       "      <td>Weekly</td>\n",
       "      <td>2</td>\n",
       "      <td>Smart Phones</td>\n",
       "      <td>NaN</td>\n",
       "      <td>3</td>\n",
       "    </tr>\n",
       "  </tbody>\n",
       "</table>\n",
       "</div>"
      ],
      "text/plain": [
       "   gender       age   location       profession income  \\\n",
       "0  Female  above 30     Indore     Professional    Yes   \n",
       "1    Male     18-21    Indore   College Student     No   \n",
       "2  Female     18-21  Bengaluru       CA Student    Yes   \n",
       "3    Male     21-30    Indore      Professional    Yes   \n",
       "4  Female     21-30    Ireland     Professional    Yes   \n",
       "\n",
       "                              income_source  \\\n",
       "0  visiting faculty freelancing art classes   \n",
       "1                                      none   \n",
       "2                               articleship   \n",
       "3                                       job   \n",
       "4                        software developer   \n",
       "\n",
       "                                           platforms  \\\n",
       "0  [Youtube,  Netflix,  Amazon Prime,  Disney + H...   \n",
       "1                 [Youtube,  Netflix,  Amazon Prime]   \n",
       "2  [Youtube,  Netflix,  Amazon Prime,  Disney + H...   \n",
       "3                 [Youtube,  Netflix,  Amazon Prime]   \n",
       "4              [Youtube,  Netflix,  Disney + Hostar]   \n",
       "\n",
       "                subscription_pay    usage  hours_per_day       device_used  \\\n",
       "0         I pay for some of them  Monthly              8                PC   \n",
       "1         I pay for some of them    Daily              6  Smart Phones, PC   \n",
       "2  I pay for my own subscription   Weekly              1      Smart Phones   \n",
       "3  I pay for my own subscription   Rarely              1                TV   \n",
       "4  I pay for my own subscription   Weekly              2      Smart Phones   \n",
       "\n",
       "                                            comments  platform_count  \n",
       "0  1. Radio button not working for smart phones 2...               7  \n",
       "1                                                NaN               3  \n",
       "2                                                NaN               4  \n",
       "3                                                NaN               3  \n",
       "4                                                NaN               3  "
      ]
     },
     "execution_count": 19,
     "metadata": {},
     "output_type": "execute_result"
    }
   ],
   "source": [
    "df.head()"
   ]
  },
  {
   "cell_type": "code",
   "execution_count": 20,
   "id": "7202e879",
   "metadata": {},
   "outputs": [
    {
     "data": {
      "text/html": [
       "<div>\n",
       "<style scoped>\n",
       "    .dataframe tbody tr th:only-of-type {\n",
       "        vertical-align: middle;\n",
       "    }\n",
       "\n",
       "    .dataframe tbody tr th {\n",
       "        vertical-align: top;\n",
       "    }\n",
       "\n",
       "    .dataframe thead th {\n",
       "        text-align: right;\n",
       "    }\n",
       "</style>\n",
       "<table border=\"1\" class=\"dataframe\">\n",
       "  <thead>\n",
       "    <tr style=\"text-align: right;\">\n",
       "      <th></th>\n",
       "      <th>hours_per_day</th>\n",
       "      <th>platform_count</th>\n",
       "    </tr>\n",
       "  </thead>\n",
       "  <tbody>\n",
       "    <tr>\n",
       "      <th>count</th>\n",
       "      <td>74.000000</td>\n",
       "      <td>74.000000</td>\n",
       "    </tr>\n",
       "    <tr>\n",
       "      <th>mean</th>\n",
       "      <td>2.445946</td>\n",
       "      <td>4.472973</td>\n",
       "    </tr>\n",
       "    <tr>\n",
       "      <th>std</th>\n",
       "      <td>1.783808</td>\n",
       "      <td>2.365407</td>\n",
       "    </tr>\n",
       "    <tr>\n",
       "      <th>min</th>\n",
       "      <td>1.000000</td>\n",
       "      <td>1.000000</td>\n",
       "    </tr>\n",
       "    <tr>\n",
       "      <th>25%</th>\n",
       "      <td>1.000000</td>\n",
       "      <td>3.000000</td>\n",
       "    </tr>\n",
       "    <tr>\n",
       "      <th>50%</th>\n",
       "      <td>2.000000</td>\n",
       "      <td>4.500000</td>\n",
       "    </tr>\n",
       "    <tr>\n",
       "      <th>75%</th>\n",
       "      <td>3.000000</td>\n",
       "      <td>6.000000</td>\n",
       "    </tr>\n",
       "    <tr>\n",
       "      <th>max</th>\n",
       "      <td>10.000000</td>\n",
       "      <td>12.000000</td>\n",
       "    </tr>\n",
       "  </tbody>\n",
       "</table>\n",
       "</div>"
      ],
      "text/plain": [
       "       hours_per_day  platform_count\n",
       "count      74.000000       74.000000\n",
       "mean        2.445946        4.472973\n",
       "std         1.783808        2.365407\n",
       "min         1.000000        1.000000\n",
       "25%         1.000000        3.000000\n",
       "50%         2.000000        4.500000\n",
       "75%         3.000000        6.000000\n",
       "max        10.000000       12.000000"
      ]
     },
     "execution_count": 20,
     "metadata": {},
     "output_type": "execute_result"
    }
   ],
   "source": [
    "df.describe()"
   ]
  },
  {
   "cell_type": "code",
   "execution_count": 21,
   "id": "c87e5800",
   "metadata": {},
   "outputs": [
    {
     "name": "stdout",
     "output_type": "stream",
     "text": [
      "<class 'pandas.core.frame.DataFrame'>\n",
      "RangeIndex: 74 entries, 0 to 73\n",
      "Data columns (total 13 columns):\n",
      " #   Column            Non-Null Count  Dtype \n",
      "---  ------            --------------  ----- \n",
      " 0   gender            74 non-null     object\n",
      " 1   age               74 non-null     object\n",
      " 2   location          74 non-null     object\n",
      " 3   profession        74 non-null     object\n",
      " 4   income            74 non-null     object\n",
      " 5   income_source     74 non-null     object\n",
      " 6   platforms         74 non-null     object\n",
      " 7   subscription_pay  74 non-null     object\n",
      " 8   usage             74 non-null     object\n",
      " 9   hours_per_day     74 non-null     int64 \n",
      " 10  device_used       74 non-null     object\n",
      " 11  comments          10 non-null     object\n",
      " 12  platform_count    74 non-null     int64 \n",
      "dtypes: int64(2), object(11)\n",
      "memory usage: 7.6+ KB\n"
     ]
    }
   ],
   "source": [
    "df.info()"
   ]
  },
  {
   "cell_type": "code",
   "execution_count": 22,
   "id": "2bfb74f5",
   "metadata": {},
   "outputs": [
    {
     "name": "stdout",
     "output_type": "stream",
     "text": [
      "1. Radio button not working for smart phones 2. How many hours per week you can write per day...as if someone Watches series then it will be more than 10 hours...so 10 hours per week will not be sufficient...\n",
      "3. For age group..write above 30 as < is creating confusion. .\n",
      "nan\n",
      "nan\n",
      "nan\n",
      "nan\n",
      "nan\n",
      "nan\n",
      "nan\n",
      "nan\n",
      "nan\n",
      "nan\n",
      "nan\n",
      "nan\n",
      "nan\n",
      "nan\n",
      "nan\n",
      "No\n",
      "nan\n",
      "nan\n",
      "nan\n",
      "nan\n",
      "nan\n",
      "nan\n",
      "nan\n",
      "nan\n",
      "nan\n",
      "nan\n",
      "nan\n",
      "nan\n",
      "nan\n",
      "Nope \n",
      "No\n",
      "nan\n",
      "nan\n",
      "nan\n",
      "nan\n",
      "nan\n",
      "nan\n",
      "nan\n",
      "nan\n",
      "nan\n",
      "nan\n",
      "nan\n",
      "nan\n",
      "nan\n",
      "NO \n",
      "nan\n",
      "They should be more user friendly when operated on different devices \n",
      "nan\n",
      "nan\n",
      "nan\n",
      "nan\n",
      "nan\n",
      "nan\n",
      "nan\n",
      "nan\n",
      "You should also add telegram to the list. Many of the movies or series we can find here for free. \n",
      "You should also add a column where we can write that we use this platform when we are free. While doing some work(like eating), or waste our time on these platform and binge watch . \n",
      "nan\n",
      "The should be ad free.\n",
      "nan\n",
      "YouTube is majorly for studying academic topics for learning and college exams.\n",
      "Disney+ hotstar only for IPL or World cup matches. \n",
      "Rest for shows/movies. \n",
      "nan\n",
      "nan\n",
      "nan\n",
      "nan\n",
      "nan\n",
      "nan\n",
      "nan\n",
      "No\n",
      "nan\n",
      "nan\n",
      "nan\n",
      "nan\n",
      "nan\n"
     ]
    }
   ],
   "source": [
    "for i in df['comments']:\n",
    "    print(i)"
   ]
  },
  {
   "cell_type": "code",
   "execution_count": 23,
   "id": "ea7fde70",
   "metadata": {},
   "outputs": [],
   "source": [
    "df.drop('comments', axis=1, inplace=True)"
   ]
  },
  {
   "cell_type": "code",
   "execution_count": 24,
   "id": "3ba60eeb",
   "metadata": {},
   "outputs": [
    {
     "data": {
      "text/plain": [
       "Index(['gender', 'age', 'location', 'profession', 'income', 'income_source',\n",
       "       'platforms', 'subscription_pay', 'usage', 'hours_per_day',\n",
       "       'device_used', 'platform_count'],\n",
       "      dtype='object')"
      ]
     },
     "execution_count": 24,
     "metadata": {},
     "output_type": "execute_result"
    }
   ],
   "source": [
    "df.columns"
   ]
  },
  {
   "cell_type": "code",
   "execution_count": 25,
   "id": "ffa8cd22",
   "metadata": {},
   "outputs": [
    {
     "data": {
      "text/html": [
       "<div>\n",
       "<style scoped>\n",
       "    .dataframe tbody tr th:only-of-type {\n",
       "        vertical-align: middle;\n",
       "    }\n",
       "\n",
       "    .dataframe tbody tr th {\n",
       "        vertical-align: top;\n",
       "    }\n",
       "\n",
       "    .dataframe thead th {\n",
       "        text-align: right;\n",
       "    }\n",
       "</style>\n",
       "<table border=\"1\" class=\"dataframe\">\n",
       "  <thead>\n",
       "    <tr style=\"text-align: right;\">\n",
       "      <th></th>\n",
       "      <th>gender</th>\n",
       "      <th>age</th>\n",
       "      <th>location</th>\n",
       "      <th>profession</th>\n",
       "      <th>income</th>\n",
       "      <th>income_source</th>\n",
       "      <th>platforms</th>\n",
       "      <th>subscription_pay</th>\n",
       "      <th>usage</th>\n",
       "      <th>hours_per_day</th>\n",
       "      <th>device_used</th>\n",
       "      <th>platform_count</th>\n",
       "    </tr>\n",
       "  </thead>\n",
       "  <tbody>\n",
       "    <tr>\n",
       "      <th>0</th>\n",
       "      <td>Female</td>\n",
       "      <td>above 30</td>\n",
       "      <td>Indore</td>\n",
       "      <td>Professional</td>\n",
       "      <td>Yes</td>\n",
       "      <td>visiting faculty freelancing art classes</td>\n",
       "      <td>[Youtube,  Netflix,  Amazon Prime,  Disney + H...</td>\n",
       "      <td>I pay for some of them</td>\n",
       "      <td>Monthly</td>\n",
       "      <td>8</td>\n",
       "      <td>PC</td>\n",
       "      <td>7</td>\n",
       "    </tr>\n",
       "    <tr>\n",
       "      <th>1</th>\n",
       "      <td>Male</td>\n",
       "      <td>18-21</td>\n",
       "      <td>Indore</td>\n",
       "      <td>College Student</td>\n",
       "      <td>No</td>\n",
       "      <td>none</td>\n",
       "      <td>[Youtube,  Netflix,  Amazon Prime]</td>\n",
       "      <td>I pay for some of them</td>\n",
       "      <td>Daily</td>\n",
       "      <td>6</td>\n",
       "      <td>Smart Phones, PC</td>\n",
       "      <td>3</td>\n",
       "    </tr>\n",
       "    <tr>\n",
       "      <th>2</th>\n",
       "      <td>Female</td>\n",
       "      <td>18-21</td>\n",
       "      <td>Bengaluru</td>\n",
       "      <td>CA Student</td>\n",
       "      <td>Yes</td>\n",
       "      <td>articleship</td>\n",
       "      <td>[Youtube,  Netflix,  Amazon Prime,  Disney + H...</td>\n",
       "      <td>I pay for my own subscription</td>\n",
       "      <td>Weekly</td>\n",
       "      <td>1</td>\n",
       "      <td>Smart Phones</td>\n",
       "      <td>4</td>\n",
       "    </tr>\n",
       "    <tr>\n",
       "      <th>3</th>\n",
       "      <td>Male</td>\n",
       "      <td>21-30</td>\n",
       "      <td>Indore</td>\n",
       "      <td>Professional</td>\n",
       "      <td>Yes</td>\n",
       "      <td>job</td>\n",
       "      <td>[Youtube,  Netflix,  Amazon Prime]</td>\n",
       "      <td>I pay for my own subscription</td>\n",
       "      <td>Rarely</td>\n",
       "      <td>1</td>\n",
       "      <td>TV</td>\n",
       "      <td>3</td>\n",
       "    </tr>\n",
       "    <tr>\n",
       "      <th>4</th>\n",
       "      <td>Female</td>\n",
       "      <td>21-30</td>\n",
       "      <td>Ireland</td>\n",
       "      <td>Professional</td>\n",
       "      <td>Yes</td>\n",
       "      <td>software developer</td>\n",
       "      <td>[Youtube,  Netflix,  Disney + Hostar]</td>\n",
       "      <td>I pay for my own subscription</td>\n",
       "      <td>Weekly</td>\n",
       "      <td>2</td>\n",
       "      <td>Smart Phones</td>\n",
       "      <td>3</td>\n",
       "    </tr>\n",
       "  </tbody>\n",
       "</table>\n",
       "</div>"
      ],
      "text/plain": [
       "   gender       age   location       profession income  \\\n",
       "0  Female  above 30     Indore     Professional    Yes   \n",
       "1    Male     18-21    Indore   College Student     No   \n",
       "2  Female     18-21  Bengaluru       CA Student    Yes   \n",
       "3    Male     21-30    Indore      Professional    Yes   \n",
       "4  Female     21-30    Ireland     Professional    Yes   \n",
       "\n",
       "                              income_source  \\\n",
       "0  visiting faculty freelancing art classes   \n",
       "1                                      none   \n",
       "2                               articleship   \n",
       "3                                       job   \n",
       "4                        software developer   \n",
       "\n",
       "                                           platforms  \\\n",
       "0  [Youtube,  Netflix,  Amazon Prime,  Disney + H...   \n",
       "1                 [Youtube,  Netflix,  Amazon Prime]   \n",
       "2  [Youtube,  Netflix,  Amazon Prime,  Disney + H...   \n",
       "3                 [Youtube,  Netflix,  Amazon Prime]   \n",
       "4              [Youtube,  Netflix,  Disney + Hostar]   \n",
       "\n",
       "                subscription_pay    usage  hours_per_day       device_used  \\\n",
       "0         I pay for some of them  Monthly              8                PC   \n",
       "1         I pay for some of them    Daily              6  Smart Phones, PC   \n",
       "2  I pay for my own subscription   Weekly              1      Smart Phones   \n",
       "3  I pay for my own subscription   Rarely              1                TV   \n",
       "4  I pay for my own subscription   Weekly              2      Smart Phones   \n",
       "\n",
       "   platform_count  \n",
       "0               7  \n",
       "1               3  \n",
       "2               4  \n",
       "3               3  \n",
       "4               3  "
      ]
     },
     "execution_count": 25,
     "metadata": {},
     "output_type": "execute_result"
    }
   ],
   "source": [
    "df.head()"
   ]
  },
  {
   "cell_type": "code",
   "execution_count": 26,
   "id": "a22718bc",
   "metadata": {},
   "outputs": [
    {
     "data": {
      "text/plain": [
       "array(['I pay for some of them', 'I pay for my own subscription',\n",
       "       \"I use someone else's account\", 'I only watch free contents'],\n",
       "      dtype=object)"
      ]
     },
     "execution_count": 26,
     "metadata": {},
     "output_type": "execute_result"
    }
   ],
   "source": [
    "df['subscription_pay'].unique()"
   ]
  },
  {
   "cell_type": "code",
   "execution_count": 27,
   "id": "f4685c54",
   "metadata": {},
   "outputs": [],
   "source": [
    "df.replace({'I pay for some of them':'some platforms','I pay for my own subscription':'all platforms', \n",
    "            \"I use someone else's account\":'paid by someone else','I only watch free contents':'free platforms'}, inplace=True)"
   ]
  },
  {
   "cell_type": "code",
   "execution_count": 28,
   "id": "b6894307",
   "metadata": {},
   "outputs": [],
   "source": [
    "df['usage'] = [i.lower() for i in df['usage']]"
   ]
  },
  {
   "cell_type": "code",
   "execution_count": 29,
   "id": "0619952b",
   "metadata": {},
   "outputs": [],
   "source": [
    "df['device_used'] = [i.split(',') for i in df['device_used']]"
   ]
  },
  {
   "cell_type": "code",
   "execution_count": 30,
   "id": "3da4148f",
   "metadata": {},
   "outputs": [],
   "source": [
    "df['device_count'] = [len(i) for i in df['device_used']]"
   ]
  },
  {
   "cell_type": "code",
   "execution_count": 31,
   "id": "b0375cc6",
   "metadata": {},
   "outputs": [
    {
     "data": {
      "text/plain": [
       "array(['Indore', 'Indore ', 'Bengaluru', 'Ireland', 'Sonipat',\n",
       "       'Indore, Madhya Pradesh,India ', 'Dhaelr, Madhya Pradesh, India ',\n",
       "       'Indore, Madhya Pradesh, India ', 'Indore(m.p)', 'India ',\n",
       "       'Shivpuri, Madhya Pradesh, India ', 'Mp',\n",
       "       'Indore, Madhya pradesh, India ', 'In a relationship',\n",
       "       'Indore, M. P., India', 'Bangalore, Karnataka, India',\n",
       "       'Indore/M.P/India', 'Sagar', 'Dublin, Ireland ', 'Delhi',\n",
       "       'Madhya pradesh', 'Dublin',\n",
       "       'Scheme no. 78,slice A/S/4 , house no. 100 , VIJAY NAGAR INDORE, MADHYA PRADESH',\n",
       "       'Mumbai ', 'India', 'Pune ', 'Boston, MA',\n",
       "       '140 shri krishna Avenue Phase-1 limbodi Indore madhya pradesh india ',\n",
       "       'Badi bhamori anjani Nagar indore mp ', 'Karnataka India ', 'Pune',\n",
       "       'Gurgaon', 'Jaipur', 'Bangalore ', 'Sidhi/Madhya-Pradesh',\n",
       "       'Indore/Madhya Pradesh/India', 'Madhya Pradesh, Indore,india',\n",
       "       'Indore, MP'], dtype=object)"
      ]
     },
     "execution_count": 31,
     "metadata": {},
     "output_type": "execute_result"
    }
   ],
   "source": [
    "df['location'].unique()"
   ]
  },
  {
   "cell_type": "code",
   "execution_count": 32,
   "id": "ba64a7ad",
   "metadata": {},
   "outputs": [],
   "source": [
    "df['location'][df['location'] == 'In a relationship'] = 'Lalitpur'"
   ]
  },
  {
   "cell_type": "code",
   "execution_count": 33,
   "id": "3c794179",
   "metadata": {},
   "outputs": [],
   "source": [
    "df['location'] = [i.lower() for i in df['location']]"
   ]
  },
  {
   "cell_type": "code",
   "execution_count": 34,
   "id": "905e410f",
   "metadata": {},
   "outputs": [],
   "source": [
    "df['location'] = [i.strip() for i in df['location']]"
   ]
  },
  {
   "cell_type": "code",
   "execution_count": 35,
   "id": "eed6b722",
   "metadata": {},
   "outputs": [],
   "source": [
    "df['location'] = [i.replace(',', \" \") for i in df['location']]\n",
    "df['location'] = [i.replace('/', \" \") for i in df['location']]\n",
    "df['location'] = [i.replace('(', \" \") for i in df['location']]\n",
    "df['location'] = [i.replace(')', \" \") for i in df['location']]"
   ]
  },
  {
   "cell_type": "code",
   "execution_count": 36,
   "id": "0f19a256",
   "metadata": {},
   "outputs": [
    {
     "data": {
      "text/plain": [
       "array(['indore', 'bengaluru', 'ireland', 'sonipat',\n",
       "       'indore  madhya pradesh india', 'dhaelr  madhya pradesh  india',\n",
       "       'indore  madhya pradesh  india', 'indore m.p ', 'india',\n",
       "       'shivpuri  madhya pradesh  india', 'mp', 'lalitpur',\n",
       "       'indore  m. p.  india', 'bangalore  karnataka  india',\n",
       "       'indore m.p india', 'sagar', 'dublin  ireland', 'delhi',\n",
       "       'madhya pradesh', 'dublin',\n",
       "       'scheme no. 78 slice a s 4   house no. 100   vijay nagar indore  madhya pradesh',\n",
       "       'mumbai', 'pune', 'boston  ma',\n",
       "       '140 shri krishna avenue phase-1 limbodi indore madhya pradesh india',\n",
       "       'badi bhamori anjani nagar indore mp', 'karnataka india',\n",
       "       'gurgaon', 'jaipur', 'bangalore', 'sidhi madhya-pradesh',\n",
       "       'indore madhya pradesh india', 'madhya pradesh  indore india',\n",
       "       'indore  mp'], dtype=object)"
      ]
     },
     "execution_count": 36,
     "metadata": {},
     "output_type": "execute_result"
    }
   ],
   "source": [
    "df['location'].unique()"
   ]
  },
  {
   "cell_type": "code",
   "execution_count": 37,
   "id": "d7a38dbc",
   "metadata": {},
   "outputs": [
    {
     "data": {
      "text/plain": [
       "0                           indore\n",
       "1                           indore\n",
       "2                        bengaluru\n",
       "3                           indore\n",
       "4                          ireland\n",
       "                  ...             \n",
       "69     indore madhya pradesh india\n",
       "70                          indore\n",
       "71                           india\n",
       "72    madhya pradesh  indore india\n",
       "73                      indore  mp\n",
       "Name: location, Length: 74, dtype: object"
      ]
     },
     "execution_count": 37,
     "metadata": {},
     "output_type": "execute_result"
    }
   ],
   "source": [
    "df['location']"
   ]
  },
  {
   "cell_type": "code",
   "execution_count": 38,
   "id": "1e061050",
   "metadata": {},
   "outputs": [
    {
     "data": {
      "text/plain": [
       "True"
      ]
     },
     "execution_count": 38,
     "metadata": {},
     "output_type": "execute_result"
    }
   ],
   "source": [
    "'indore' in df['location'][69]"
   ]
  },
  {
   "cell_type": "code",
   "execution_count": 39,
   "id": "e6f503c8",
   "metadata": {},
   "outputs": [],
   "source": [
    "df['location'] = [i.split() for i in df['location']]"
   ]
  },
  {
   "cell_type": "code",
   "execution_count": 40,
   "id": "724b87b6",
   "metadata": {},
   "outputs": [],
   "source": [
    "def city(l):\n",
    "    c = ['delhi','sagar','lalitpur','indore','sonipat','bengaluru','bangalore','sonipat','shivpuri',\n",
    "         'dublin','mumbai','pune','boston','gurgaon','jaipur','sidhi','dhaelr']\n",
    "    for i in l:\n",
    "        if i in c:\n",
    "            return i\n",
    "        break"
   ]
  },
  {
   "cell_type": "code",
   "execution_count": 43,
   "id": "6e83ce36",
   "metadata": {},
   "outputs": [],
   "source": [
    "cities = []\n",
    "for i in df['location']:\n",
    "    a =city(i)\n",
    "    cities.append(a)"
   ]
  },
  {
   "cell_type": "code",
   "execution_count": 44,
   "id": "c4384e1e",
   "metadata": {},
   "outputs": [],
   "source": [
    "index = []\n",
    "a = -1\n",
    "for i,v in enumerate(cities):\n",
    "    if v == None:\n",
    "        if cities.count(v) > 1 and i not in index:\n",
    "            index.append(i)"
   ]
  },
  {
   "cell_type": "code",
   "execution_count": 45,
   "id": "b74e62d7",
   "metadata": {},
   "outputs": [
    {
     "data": {
      "text/plain": [
       "[4, 13, 16, 32, 40, 46, 55, 57, 61, 71, 72]"
      ]
     },
     "execution_count": 45,
     "metadata": {},
     "output_type": "execute_result"
    }
   ],
   "source": [
    "index"
   ]
  },
  {
   "cell_type": "code",
   "execution_count": null,
   "id": "55a5aebd",
   "metadata": {},
   "outputs": [],
   "source": [
    "for i in index:\n",
    "    print(df['location'][i])"
   ]
  },
  {
   "cell_type": "code",
   "execution_count": null,
   "id": "67fef71e",
   "metadata": {},
   "outputs": [],
   "source": [
    "cities[4] = 'dublin'"
   ]
  },
  {
   "cell_type": "code",
   "execution_count": null,
   "id": "b9762992",
   "metadata": {},
   "outputs": [],
   "source": [
    "for i in [40,55,57,72]:\n",
    "    cities[i] = 'indore'"
   ]
  },
  {
   "cell_type": "code",
   "execution_count": null,
   "id": "59542613",
   "metadata": {},
   "outputs": [],
   "source": [
    "df['cities'] = pd.Series(cities)"
   ]
  },
  {
   "cell_type": "code",
   "execution_count": null,
   "id": "c109ef61",
   "metadata": {},
   "outputs": [],
   "source": [
    "df.head()"
   ]
  },
  {
   "cell_type": "code",
   "execution_count": null,
   "id": "10756763",
   "metadata": {},
   "outputs": [],
   "source": [
    "df['cities'].isnull().sum()"
   ]
  },
  {
   "cell_type": "code",
   "execution_count": null,
   "id": "a0176e10",
   "metadata": {},
   "outputs": [],
   "source": [
    "df['cities'].unique()"
   ]
  },
  {
   "cell_type": "code",
   "execution_count": null,
   "id": "5ca343b8",
   "metadata": {},
   "outputs": [],
   "source": [
    "df['cities'].replace('dhaelr', 'dhar', inplace=True)\n",
    "df['cities'].replace('bengaluru', 'bangalore', inplace=True)"
   ]
  },
  {
   "cell_type": "code",
   "execution_count": null,
   "id": "e859ed71",
   "metadata": {},
   "outputs": [],
   "source": [
    "a = df['cities'].unique()\n",
    "state = ['madhya pradesh' for i in df['cities'] if i in ['indore', 'dhar', 'shivpuri', 'sagar', 'sidhi']]"
   ]
  },
  {
   "cell_type": "code",
   "execution_count": null,
   "id": "ce66ae97",
   "metadata": {},
   "outputs": [],
   "source": [
    "df.head()"
   ]
  },
  {
   "cell_type": "code",
   "execution_count": null,
   "id": "62085804",
   "metadata": {},
   "outputs": [],
   "source": [
    "df.drop('location',axis=1,inplace=True)"
   ]
  },
  {
   "cell_type": "code",
   "execution_count": null,
   "id": "e50ddda9",
   "metadata": {},
   "outputs": [],
   "source": [
    "df.to_csv('cleaned_data.csv')\n",
    "print(\"DONE!!!\")"
   ]
  },
  {
   "cell_type": "code",
   "execution_count": null,
   "id": "ae12db13",
   "metadata": {},
   "outputs": [],
   "source": []
  }
 ],
 "metadata": {
  "kernelspec": {
   "display_name": "Python 3 (ipykernel)",
   "language": "python",
   "name": "python3"
  },
  "language_info": {
   "codemirror_mode": {
    "name": "ipython",
    "version": 3
   },
   "file_extension": ".py",
   "mimetype": "text/x-python",
   "name": "python",
   "nbconvert_exporter": "python",
   "pygments_lexer": "ipython3",
   "version": "3.9.12"
  }
 },
 "nbformat": 4,
 "nbformat_minor": 5
}
